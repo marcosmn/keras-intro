{
  "nbformat": 4,
  "nbformat_minor": 0,
  "metadata": {
    "colab": {
      "provenance": []
    },
    "kernelspec": {
      "name": "python3",
      "display_name": "Python 3"
    },
    "language_info": {
      "name": "python"
    }
  },
  "cells": [
    {
      "cell_type": "markdown",
      "source": [
        "# Preparação"
      ],
      "metadata": {
        "id": "DLoLvjP3mRAF"
      }
    },
    {
      "cell_type": "code",
      "source": [
        "!pip install wandb -qU"
      ],
      "metadata": {
        "id": "krAr-VYgmM19",
        "colab": {
          "base_uri": "https://localhost:8080/"
        },
        "outputId": "d304ce8c-ff8f-42a4-e29a-cf6124f9bcd1"
      },
      "execution_count": 2,
      "outputs": [
        {
          "output_type": "stream",
          "name": "stdout",
          "text": [
            "\u001b[2K     \u001b[90m━━━━━━━━━━━━━━━━━━━━━━━━━━━━━━━━━━━━━━━━\u001b[0m \u001b[32m2.1/2.1 MB\u001b[0m \u001b[31m12.3 MB/s\u001b[0m eta \u001b[36m0:00:00\u001b[0m\n",
            "\u001b[2K     \u001b[90m━━━━━━━━━━━━━━━━━━━━━━━━━━━━━━━━━━━━━━\u001b[0m \u001b[32m190.0/190.0 kB\u001b[0m \u001b[31m13.8 MB/s\u001b[0m eta \u001b[36m0:00:00\u001b[0m\n",
            "\u001b[2K     \u001b[90m━━━━━━━━━━━━━━━━━━━━━━━━━━━━━━━━━━━━━━\u001b[0m \u001b[32m224.8/224.8 kB\u001b[0m \u001b[31m15.7 MB/s\u001b[0m eta \u001b[36m0:00:00\u001b[0m\n",
            "\u001b[?25h  Preparing metadata (setup.py) ... \u001b[?25l\u001b[?25hdone\n",
            "\u001b[2K     \u001b[90m━━━━━━━━━━━━━━━━━━━━━━━━━━━━━━━━━━━━━━━━\u001b[0m \u001b[32m62.7/62.7 kB\u001b[0m \u001b[31m6.8 MB/s\u001b[0m eta \u001b[36m0:00:00\u001b[0m\n",
            "\u001b[?25h  Building wheel for pathtools (setup.py) ... \u001b[?25l\u001b[?25hdone\n"
          ]
        }
      ]
    },
    {
      "cell_type": "code",
      "source": [
        "import wandb"
      ],
      "metadata": {
        "id": "7_F6ymJambzW"
      },
      "execution_count": 3,
      "outputs": []
    },
    {
      "cell_type": "code",
      "source": [
        "wandb.login()"
      ],
      "metadata": {
        "id": "4JPft1qpmdsm",
        "colab": {
          "base_uri": "https://localhost:8080/",
          "height": 121
        },
        "outputId": "2512ee59-194d-4ca8-d69f-0259dc463041"
      },
      "execution_count": 4,
      "outputs": [
        {
          "output_type": "display_data",
          "data": {
            "text/plain": [
              "<IPython.core.display.Javascript object>"
            ],
            "application/javascript": [
              "\n",
              "        window._wandbApiKey = new Promise((resolve, reject) => {\n",
              "            function loadScript(url) {\n",
              "            return new Promise(function(resolve, reject) {\n",
              "                let newScript = document.createElement(\"script\");\n",
              "                newScript.onerror = reject;\n",
              "                newScript.onload = resolve;\n",
              "                document.body.appendChild(newScript);\n",
              "                newScript.src = url;\n",
              "            });\n",
              "            }\n",
              "            loadScript(\"https://cdn.jsdelivr.net/npm/postmate/build/postmate.min.js\").then(() => {\n",
              "            const iframe = document.createElement('iframe')\n",
              "            iframe.style.cssText = \"width:0;height:0;border:none\"\n",
              "            document.body.appendChild(iframe)\n",
              "            const handshake = new Postmate({\n",
              "                container: iframe,\n",
              "                url: 'https://wandb.ai/authorize'\n",
              "            });\n",
              "            const timeout = setTimeout(() => reject(\"Couldn't auto authenticate\"), 5000)\n",
              "            handshake.then(function(child) {\n",
              "                child.on('authorize', data => {\n",
              "                    clearTimeout(timeout)\n",
              "                    resolve(data)\n",
              "                });\n",
              "            });\n",
              "            })\n",
              "        });\n",
              "    "
            ]
          },
          "metadata": {}
        },
        {
          "output_type": "stream",
          "name": "stderr",
          "text": [
            "\u001b[34m\u001b[1mwandb\u001b[0m: Logging into wandb.ai. (Learn how to deploy a W&B server locally: https://wandb.me/wandb-server)\n",
            "\u001b[34m\u001b[1mwandb\u001b[0m: You can find your API key in your browser here: https://wandb.ai/authorize\n",
            "wandb: Paste an API key from your profile and hit enter, or press ctrl+c to quit:"
          ]
        },
        {
          "name": "stdout",
          "output_type": "stream",
          "text": [
            " ··········\n"
          ]
        },
        {
          "output_type": "stream",
          "name": "stderr",
          "text": [
            "\u001b[34m\u001b[1mwandb\u001b[0m: Appending key for api.wandb.ai to your netrc file: /root/.netrc\n"
          ]
        },
        {
          "output_type": "execute_result",
          "data": {
            "text/plain": [
              "True"
            ]
          },
          "metadata": {},
          "execution_count": 4
        }
      ]
    },
    {
      "cell_type": "code",
      "source": [
        "rm -rf `find -type d -name .ipynb_checkpoints`"
      ],
      "metadata": {
        "id": "pdjgJ5XWcTXS"
      },
      "execution_count": 5,
      "outputs": []
    },
    {
      "cell_type": "code",
      "execution_count": 7,
      "metadata": {
        "id": "DK4VZNYPbVP2"
      },
      "outputs": [],
      "source": [
        "# Import packages and set numpy random seed\n",
        "import numpy as np\n",
        "np.random.seed(5)\n",
        "import tensorflow as tf\n",
        "tf.random.set_seed(2)\n",
        "from datasets import sign_language\n",
        "import matplotlib.pyplot as plt\n",
        "%matplotlib inline"
      ]
    },
    {
      "cell_type": "code",
      "source": [
        "# Load pre-shuffled training and test datasets\n",
        "(x_train, y_train), (x_test, y_test) = sign_language.load_data()\n",
        "\n",
        "# Store labels of dataset\n",
        "#labels = ['A', 'B', 'C']"
      ],
      "metadata": {
        "id": "OKrUUR7_lVfo"
      },
      "execution_count": 19,
      "outputs": []
    },
    {
      "cell_type": "markdown",
      "source": [
        "# Visualização"
      ],
      "metadata": {
        "id": "VNjP8B7H2bii"
      }
    },
    {
      "cell_type": "code",
      "source": [
        "import random\n",
        "\n",
        "# Launch 5 simulated experiments\n",
        "for run in range(5):\n",
        "    # 1️⃣ Start a new run to track this script\n",
        "    wandb.init(\n",
        "        # Set entity to specify your username or team name\n",
        "        # ex: entity=\"carey\",\n",
        "        # Set the project where this run will be logged\n",
        "        project=\"basic-intro\",\n",
        "        # Track hyperparameters and run metadata\n",
        "        config={\n",
        "            \"learning_rate\": 0.02,\n",
        "            \"architecture\": \"CNN\",\n",
        "            \"dataset\": \"CIFAR-100\",\n",
        "        },\n",
        "    )\n",
        "\n",
        "    # This simple block simulates a training loop logging metrics\n",
        "    offset = random.random() / 5\n",
        "    for ii in range(2, 10):\n",
        "        acc = 1 - 2**-ii - random.random() / ii - offset\n",
        "        loss = 2**-ii + random.random() / ii + offset\n",
        "        # 2️⃣ Log metrics from your script to W&B\n",
        "        wandb.log({\"acc\": acc, \"loss\": loss})\n",
        "\n",
        "    # Mark the run as finished\n",
        "    wandb.finish()"
      ],
      "metadata": {
        "id": "V2NEnAKx0rQ7"
      },
      "execution_count": null,
      "outputs": []
    },
    {
      "cell_type": "code",
      "source": [
        "# Print the first several training images, along with the labels\n",
        "fig = plt.figure(figsize=(20,5))\n",
        "for i in range(36):\n",
        "    ax = fig.add_subplot(3, 12, i + 1, xticks=[], yticks=[])\n",
        "    ax.imshow(np.squeeze(x_train[i]))\n",
        "    ax.set_title(\"{}\".format(labels[y_train[i]]))\n",
        "plt.show()"
      ],
      "metadata": {
        "id": "IDFwHHMq2Vw2"
      },
      "execution_count": null,
      "outputs": []
    },
    {
      "cell_type": "code",
      "source": [
        "# Number of A's in the training dataset\n",
        "num_A_train = sum(y_train==0)\n",
        "# Number of B's in the training dataset\n",
        "num_B_train = sum(y_train==1)\n",
        "# Number of C's in the training dataset\n",
        "num_C_train = sum(y_train==2)\n",
        "\n",
        "# Number of A's in the test dataset\n",
        "num_A_test = sum(y_test==0)\n",
        "# Number of B's in the test dataset\n",
        "num_B_test = sum(y_test==1)\n",
        "# Number of C's in the test dataset\n",
        "num_C_test = sum(y_test==2)\n",
        "\n",
        "# Print statistics about the dataset\n",
        "print(\"Training set:\")\n",
        "print(\"\\tA: {}, B: {}, C: {}\".format(num_A_train, num_B_train, num_C_train))\n",
        "print(\"Test set:\")\n",
        "print(\"\\tA: {}, B: {}, C: {}\".format(num_A_test, num_B_test, num_C_test))"
      ],
      "metadata": {
        "id": "frCKQVw6lVuf"
      },
      "execution_count": null,
      "outputs": []
    },
    {
      "cell_type": "markdown",
      "source": [
        "# Treino com Wandb"
      ],
      "metadata": {
        "id": "uUYMBxVK2q4Y"
      }
    },
    {
      "cell_type": "code",
      "source": [
        "import random\n",
        "import numpy as np\n",
        "import tensorflow as tf\n",
        "from wandb.keras import WandbMetricsLogger, WandbModelCheckpoint\n",
        "\n",
        "# Simple Keras Model\n",
        "\n",
        "# Launch 5 experiments, trying different dropout rates\n",
        "for run in range(5):\n",
        "    # Start a run, tracking hyperparameters\n",
        "    wandb.init(\n",
        "        project=\"keras-intro\",\n",
        "        # (optional) set entity to specify your username or team name\n",
        "        # entity=\"my_team\",\n",
        "        config={\n",
        "            \"layer_1\": 512,\n",
        "            \"activation_1\": \"relu\",\n",
        "            \"dropout\": random.uniform(0.01, 0.80),\n",
        "            \"layer_2\": 10,\n",
        "            \"activation_2\": \"softmax\",\n",
        "            \"optimizer\": \"sgd\",\n",
        "            \"loss\": \"sparse_categorical_crossentropy\",\n",
        "            \"metric\": \"accuracy\",\n",
        "            \"epoch\": 6,\n",
        "            \"batch_size\": 256,\n",
        "        },\n",
        "    )\n",
        "    config = wandb.config\n",
        "\n",
        "    # Get the data\n",
        "    (x_train, y_train), (x_test, y_test) = sign_language.load_data()\n",
        "    x_train, x_test = x_train / 255.0, x_test / 255.0\n",
        "    x_train, y_train = x_train[::5], y_train[::5]  # Subset data for a faster demo\n",
        "    x_test, y_test = x_test[::20], y_test[::20]\n",
        "    labels = [str(digit) for digit in range(np.max(y_train) + 1)]\n",
        "\n",
        "    # Build a model\n",
        "    model = tf.keras.models.Sequential(\n",
        "        [\n",
        "            tf.keras.layers.Conv2D(11, (4,4), activation=tf.nn.relu, input_shape=(50, 50, 3)),\n",
        "            tf.keras.layers.Dense(config.layer_1, activation=config.activation_1),\n",
        "            tf.keras.layers.Dropout(config.dropout),\n",
        "            tf.keras.layers.Dense(config.layer_2, activation=config.activation_2),\n",
        "            tf.keras.layers.Conv2D(11, (4,4), activation=tf.nn.relu),\n",
        "            tf.keras.layers.GlobalAveragePooling2D(),\n",
        "        ]\n",
        "    )\n",
        "\n",
        "    model.compile(optimizer=config.optimizer, loss=config.loss, metrics=[config.metric])\n",
        "\n",
        "    # Add WandbMetricsLogger to log metrics and WandbModelCheckpoint to log model checkpoints\n",
        "    wandb_callbacks = [\n",
        "        WandbMetricsLogger(),\n",
        "        WandbModelCheckpoint(filepath=\"my_model_{epoch:02d}\"),\n",
        "    ]\n",
        "\n",
        "    model.fit(\n",
        "        x=x_train,\n",
        "        y=y_train,\n",
        "        epochs=config.epoch,\n",
        "        batch_size=config.batch_size,\n",
        "        validation_data=(x_test, y_test),\n",
        "        callbacks=wandb_callbacks,\n",
        "    )\n",
        "\n",
        "    # Mark the run as finished\n",
        "    wandb.finish()"
      ],
      "metadata": {
        "id": "aGtZQskW19jc",
        "colab": {
          "base_uri": "https://localhost:8080/",
          "height": 1000
        },
        "outputId": "db429dd7-fdc7-4a71-dcab-b75c61691dab"
      },
      "execution_count": 45,
      "outputs": [
        {
          "output_type": "display_data",
          "data": {
            "text/plain": [
              "<IPython.core.display.HTML object>"
            ],
            "text/html": [
              "Tracking run with wandb version 0.15.11"
            ]
          },
          "metadata": {}
        },
        {
          "output_type": "display_data",
          "data": {
            "text/plain": [
              "<IPython.core.display.HTML object>"
            ],
            "text/html": [
              "Run data is saved locally in <code>/content/wandb/run-20231001_225656-17ky17at</code>"
            ]
          },
          "metadata": {}
        },
        {
          "output_type": "display_data",
          "data": {
            "text/plain": [
              "<IPython.core.display.HTML object>"
            ],
            "text/html": [
              "Syncing run <strong><a href='https://wandb.ai/marcos-mnobrega/keras-intro/runs/17ky17at' target=\"_blank\">dauntless-sponge-55</a></strong> to <a href='https://wandb.ai/marcos-mnobrega/keras-intro' target=\"_blank\">Weights & Biases</a> (<a href='https://wandb.me/run' target=\"_blank\">docs</a>)<br/>"
            ]
          },
          "metadata": {}
        },
        {
          "output_type": "display_data",
          "data": {
            "text/plain": [
              "<IPython.core.display.HTML object>"
            ],
            "text/html": [
              " View project at <a href='https://wandb.ai/marcos-mnobrega/keras-intro' target=\"_blank\">https://wandb.ai/marcos-mnobrega/keras-intro</a>"
            ]
          },
          "metadata": {}
        },
        {
          "output_type": "display_data",
          "data": {
            "text/plain": [
              "<IPython.core.display.HTML object>"
            ],
            "text/html": [
              " View run at <a href='https://wandb.ai/marcos-mnobrega/keras-intro/runs/17ky17at' target=\"_blank\">https://wandb.ai/marcos-mnobrega/keras-intro/runs/17ky17at</a>"
            ]
          },
          "metadata": {}
        },
        {
          "output_type": "stream",
          "name": "stdout",
          "text": [
            "Epoch 1/6\n",
            "2/2 [==============================] - ETA: 0s - loss: 2.9005 - accuracy: 0.0594    "
          ]
        },
        {
          "output_type": "stream",
          "name": "stderr",
          "text": [
            "\u001b[34m\u001b[1mwandb\u001b[0m: Adding directory to artifact (./my_model_01)... Done. 0.0s\n"
          ]
        },
        {
          "output_type": "stream",
          "name": "stdout",
          "text": [
            "\b\b\b\b\b\b\b\b\b\b\b\b\b\b\b\b\b\b\b\b\b\b\b\b\b\b\b\b\b\b\b\b\b\b\b\b\b\b\b\b\b\b\b\b\b\b\b\b\b\b\b\b\b\b\b\b\b\b\b\b\b\b\b\b\b\b\b\b\b\b\b\b\b\b\b\b\b\b\b\b\r2/2 [==============================] - 12s 3s/step - loss: 2.9005 - accuracy: 0.0594 - val_loss: 1.1523 - val_accuracy: 0.4000\n",
            "Epoch 2/6\n",
            "2/2 [==============================] - ETA: 0s - loss: 1.3081 - accuracy: 0.3594"
          ]
        },
        {
          "output_type": "stream",
          "name": "stderr",
          "text": [
            "\u001b[34m\u001b[1mwandb\u001b[0m: Adding directory to artifact (./my_model_02)... Done. 0.0s\n"
          ]
        },
        {
          "output_type": "stream",
          "name": "stdout",
          "text": [
            "\b\b\b\b\b\b\b\b\b\b\b\b\b\b\b\b\b\b\b\b\b\b\b\b\b\b\b\b\b\b\b\b\b\b\b\b\b\b\b\b\b\b\b\b\b\b\b\b\b\b\b\b\b\b\b\b\b\b\b\b\b\b\b\b\b\b\b\b\b\b\b\b\b\b\b\b\b\b\b\b\r2/2 [==============================] - 12s 3s/step - loss: 1.3081 - accuracy: 0.3594 - val_loss: 1.0952 - val_accuracy: 0.4000\n",
            "Epoch 3/6\n",
            "2/2 [==============================] - ETA: 0s - loss: 1.2278 - accuracy: 0.3594"
          ]
        },
        {
          "output_type": "stream",
          "name": "stderr",
          "text": [
            "\u001b[34m\u001b[1mwandb\u001b[0m: Adding directory to artifact (./my_model_03)... Done. 0.0s\n"
          ]
        },
        {
          "output_type": "stream",
          "name": "stdout",
          "text": [
            "\b\b\b\b\b\b\b\b\b\b\b\b\b\b\b\b\b\b\b\b\b\b\b\b\b\b\b\b\b\b\b\b\b\b\b\b\b\b\b\b\b\b\b\b\b\b\b\b\b\b\b\b\b\b\b\b\b\b\b\b\b\b\b\b\b\b\b\b\b\b\b\b\b\b\b\b\b\b\b\b\r2/2 [==============================] - 12s 3s/step - loss: 1.2278 - accuracy: 0.3594 - val_loss: 1.0682 - val_accuracy: 0.4000\n",
            "Epoch 4/6\n",
            "2/2 [==============================] - ETA: 0s - loss: 1.1876 - accuracy: 0.3594"
          ]
        },
        {
          "output_type": "stream",
          "name": "stderr",
          "text": [
            "\u001b[34m\u001b[1mwandb\u001b[0m: Adding directory to artifact (./my_model_04)... Done. 0.0s\n"
          ]
        },
        {
          "output_type": "stream",
          "name": "stdout",
          "text": [
            "\b\b\b\b\b\b\b\b\b\b\b\b\b\b\b\b\b\b\b\b\b\b\b\b\b\b\b\b\b\b\b\b\b\b\b\b\b\b\b\b\b\b\b\b\b\b\b\b\b\b\b\b\b\b\b\b\b\b\b\b\b\b\b\b\b\b\b\b\b\b\b\b\b\b\b\b\b\b\b\b\r2/2 [==============================] - 12s 5s/step - loss: 1.1876 - accuracy: 0.3594 - val_loss: 1.0631 - val_accuracy: 0.4000\n",
            "Epoch 5/6\n",
            "2/2 [==============================] - ETA: 0s - loss: 1.1719 - accuracy: 0.3594"
          ]
        },
        {
          "output_type": "stream",
          "name": "stderr",
          "text": [
            "\u001b[34m\u001b[1mwandb\u001b[0m: Adding directory to artifact (./my_model_05)... Done. 0.0s\n"
          ]
        },
        {
          "output_type": "stream",
          "name": "stdout",
          "text": [
            "\b\b\b\b\b\b\b\b\b\b\b\b\b\b\b\b\b\b\b\b\b\b\b\b\b\b\b\b\b\b\b\b\b\b\b\b\b\b\b\b\b\b\b\b\b\b\b\b\b\b\b\b\b\b\b\b\b\b\b\b\b\b\b\b\b\b\b\b\b\b\b\b\b\b\b\b\b\b\b\b\r2/2 [==============================] - 10s 3s/step - loss: 1.1719 - accuracy: 0.3594 - val_loss: 1.0596 - val_accuracy: 0.4000\n",
            "Epoch 6/6\n",
            "2/2 [==============================] - ETA: 0s - loss: 1.1591 - accuracy: 0.3594"
          ]
        },
        {
          "output_type": "stream",
          "name": "stderr",
          "text": [
            "\u001b[34m\u001b[1mwandb\u001b[0m: Adding directory to artifact (./my_model_06)... Done. 0.0s\n"
          ]
        },
        {
          "output_type": "stream",
          "name": "stdout",
          "text": [
            "\b\b\b\b\b\b\b\b\b\b\b\b\b\b\b\b\b\b\b\b\b\b\b\b\b\b\b\b\b\b\b\b\b\b\b\b\b\b\b\b\b\b\b\b\b\b\b\b\b\b\b\b\b\b\b\b\b\b\b\b\b\b\b\b\b\b\b\b\b\b\b\b\b\b\b\b\b\b\b\b\r2/2 [==============================] - 11s 3s/step - loss: 1.1591 - accuracy: 0.3594 - val_loss: 1.0573 - val_accuracy: 0.4000\n"
          ]
        },
        {
          "output_type": "display_data",
          "data": {
            "text/plain": [
              "<IPython.core.display.HTML object>"
            ],
            "text/html": [
              "Waiting for W&B process to finish... <strong style=\"color:green\">(success).</strong>"
            ]
          },
          "metadata": {}
        },
        {
          "output_type": "display_data",
          "data": {
            "text/plain": [
              "<IPython.core.display.HTML object>"
            ],
            "text/html": [
              "<style>\n",
              "    table.wandb td:nth-child(1) { padding: 0 10px; text-align: left ; width: auto;} td:nth-child(2) {text-align: left ; width: 100%}\n",
              "    .wandb-row { display: flex; flex-direction: row; flex-wrap: wrap; justify-content: flex-start; width: 100% }\n",
              "    .wandb-col { display: flex; flex-direction: column; flex-basis: 100%; flex: 1; padding: 10px; }\n",
              "    </style>\n",
              "<div class=\"wandb-row\"><div class=\"wandb-col\"><h3>Run history:</h3><br/><table class=\"wandb\"><tr><td>epoch/accuracy</td><td>▁█████</td></tr><tr><td>epoch/epoch</td><td>▁▂▄▅▇█</td></tr><tr><td>epoch/learning_rate</td><td>▁▁▁▁▁▁</td></tr><tr><td>epoch/loss</td><td>█▂▁▁▁▁</td></tr><tr><td>epoch/val_accuracy</td><td>▁▁▁▁▁▁</td></tr><tr><td>epoch/val_loss</td><td>█▄▂▁▁▁</td></tr></table><br/></div><div class=\"wandb-col\"><h3>Run summary:</h3><br/><table class=\"wandb\"><tr><td>epoch/accuracy</td><td>0.35938</td></tr><tr><td>epoch/epoch</td><td>5</td></tr><tr><td>epoch/learning_rate</td><td>0.01</td></tr><tr><td>epoch/loss</td><td>1.15909</td></tr><tr><td>epoch/val_accuracy</td><td>0.4</td></tr><tr><td>epoch/val_loss</td><td>1.0573</td></tr></table><br/></div></div>"
            ]
          },
          "metadata": {}
        },
        {
          "output_type": "display_data",
          "data": {
            "text/plain": [
              "<IPython.core.display.HTML object>"
            ],
            "text/html": [
              " View run <strong style=\"color:#cdcd00\">dauntless-sponge-55</strong> at: <a href='https://wandb.ai/marcos-mnobrega/keras-intro/runs/17ky17at' target=\"_blank\">https://wandb.ai/marcos-mnobrega/keras-intro/runs/17ky17at</a><br/>Synced 5 W&B file(s), 0 media file(s), 30 artifact file(s) and 0 other file(s)"
            ]
          },
          "metadata": {}
        },
        {
          "output_type": "display_data",
          "data": {
            "text/plain": [
              "<IPython.core.display.HTML object>"
            ],
            "text/html": [
              "Find logs at: <code>./wandb/run-20231001_225656-17ky17at/logs</code>"
            ]
          },
          "metadata": {}
        },
        {
          "output_type": "display_data",
          "data": {
            "text/plain": [
              "<IPython.core.display.HTML object>"
            ],
            "text/html": [
              "Tracking run with wandb version 0.15.11"
            ]
          },
          "metadata": {}
        },
        {
          "output_type": "display_data",
          "data": {
            "text/plain": [
              "<IPython.core.display.HTML object>"
            ],
            "text/html": [
              "Run data is saved locally in <code>/content/wandb/run-20231001_225814-t914jhqz</code>"
            ]
          },
          "metadata": {}
        },
        {
          "output_type": "display_data",
          "data": {
            "text/plain": [
              "<IPython.core.display.HTML object>"
            ],
            "text/html": [
              "Syncing run <strong><a href='https://wandb.ai/marcos-mnobrega/keras-intro/runs/t914jhqz' target=\"_blank\">bright-dew-56</a></strong> to <a href='https://wandb.ai/marcos-mnobrega/keras-intro' target=\"_blank\">Weights & Biases</a> (<a href='https://wandb.me/run' target=\"_blank\">docs</a>)<br/>"
            ]
          },
          "metadata": {}
        },
        {
          "output_type": "display_data",
          "data": {
            "text/plain": [
              "<IPython.core.display.HTML object>"
            ],
            "text/html": [
              " View project at <a href='https://wandb.ai/marcos-mnobrega/keras-intro' target=\"_blank\">https://wandb.ai/marcos-mnobrega/keras-intro</a>"
            ]
          },
          "metadata": {}
        },
        {
          "output_type": "display_data",
          "data": {
            "text/plain": [
              "<IPython.core.display.HTML object>"
            ],
            "text/html": [
              " View run at <a href='https://wandb.ai/marcos-mnobrega/keras-intro/runs/t914jhqz' target=\"_blank\">https://wandb.ai/marcos-mnobrega/keras-intro/runs/t914jhqz</a>"
            ]
          },
          "metadata": {}
        },
        {
          "output_type": "stream",
          "name": "stdout",
          "text": [
            "Epoch 1/6\n",
            "2/2 [==============================] - ETA: 0s - loss: 2.9005 - accuracy: 0.0594    "
          ]
        },
        {
          "output_type": "stream",
          "name": "stderr",
          "text": [
            "\u001b[34m\u001b[1mwandb\u001b[0m: Adding directory to artifact (./my_model_01)... Done. 0.0s\n"
          ]
        },
        {
          "output_type": "stream",
          "name": "stdout",
          "text": [
            "\b\b\b\b\b\b\b\b\b\b\b\b\b\b\b\b\b\b\b\b\b\b\b\b\b\b\b\b\b\b\b\b\b\b\b\b\b\b\b\b\b\b\b\b\b\b\b\b\b\b\b\b\b\b\b\b\b\b\b\b\b\b\b\b\b\b\b\b\b\b\b\b\b\b\b\b\b\b\b\b\r2/2 [==============================] - 12s 4s/step - loss: 2.9005 - accuracy: 0.0594 - val_loss: 1.1523 - val_accuracy: 0.4000\n",
            "Epoch 2/6\n",
            "2/2 [==============================] - ETA: 0s - loss: 1.3081 - accuracy: 0.3594"
          ]
        },
        {
          "output_type": "stream",
          "name": "stderr",
          "text": [
            "\u001b[34m\u001b[1mwandb\u001b[0m: Adding directory to artifact (./my_model_02)... Done. 0.0s\n"
          ]
        },
        {
          "output_type": "stream",
          "name": "stdout",
          "text": [
            "\b\b\b\b\b\b\b\b\b\b\b\b\b\b\b\b\b\b\b\b\b\b\b\b\b\b\b\b\b\b\b\b\b\b\b\b\b\b\b\b\b\b\b\b\b\b\b\b\b\b\b\b\b\b\b\b\b\b\b\b\b\b\b\b\b\b\b\b\b\b\b\b\b\b\b\b\b\b\b\b\r2/2 [==============================] - 11s 4s/step - loss: 1.3081 - accuracy: 0.3594 - val_loss: 1.0952 - val_accuracy: 0.4000\n",
            "Epoch 3/6\n",
            "2/2 [==============================] - ETA: 0s - loss: 1.2278 - accuracy: 0.3594"
          ]
        },
        {
          "output_type": "stream",
          "name": "stderr",
          "text": [
            "\u001b[34m\u001b[1mwandb\u001b[0m: Adding directory to artifact (./my_model_03)... Done. 0.0s\n"
          ]
        },
        {
          "output_type": "stream",
          "name": "stdout",
          "text": [
            "\b\b\b\b\b\b\b\b\b\b\b\b\b\b\b\b\b\b\b\b\b\b\b\b\b\b\b\b\b\b\b\b\b\b\b\b\b\b\b\b\b\b\b\b\b\b\b\b\b\b\b\b\b\b\b\b\b\b\b\b\b\b\b\b\b\b\b\b\b\b\b\b\b\b\b\b\b\b\b\b\r2/2 [==============================] - 10s 3s/step - loss: 1.2278 - accuracy: 0.3594 - val_loss: 1.0682 - val_accuracy: 0.4000\n",
            "Epoch 4/6\n",
            "2/2 [==============================] - ETA: 0s - loss: 1.1876 - accuracy: 0.3594"
          ]
        },
        {
          "output_type": "stream",
          "name": "stderr",
          "text": [
            "\u001b[34m\u001b[1mwandb\u001b[0m: Adding directory to artifact (./my_model_04)... Done. 0.0s\n"
          ]
        },
        {
          "output_type": "stream",
          "name": "stdout",
          "text": [
            "\b\b\b\b\b\b\b\b\b\b\b\b\b\b\b\b\b\b\b\b\b\b\b\b\b\b\b\b\b\b\b\b\b\b\b\b\b\b\b\b\b\b\b\b\b\b\b\b\b\b\b\b\b\b\b\b\b\b\b\b\b\b\b\b\b\b\b\b\b\b\b\b\b\b\b\b\b\b\b\b\r2/2 [==============================] - 12s 3s/step - loss: 1.1876 - accuracy: 0.3594 - val_loss: 1.0631 - val_accuracy: 0.4000\n",
            "Epoch 5/6\n",
            "2/2 [==============================] - ETA: 0s - loss: 1.1719 - accuracy: 0.3594"
          ]
        },
        {
          "output_type": "stream",
          "name": "stderr",
          "text": [
            "\u001b[34m\u001b[1mwandb\u001b[0m: Adding directory to artifact (./my_model_05)... Done. 0.0s\n"
          ]
        },
        {
          "output_type": "stream",
          "name": "stdout",
          "text": [
            "\b\b\b\b\b\b\b\b\b\b\b\b\b\b\b\b\b\b\b\b\b\b\b\b\b\b\b\b\b\b\b\b\b\b\b\b\b\b\b\b\b\b\b\b\b\b\b\b\b\b\b\b\b\b\b\b\b\b\b\b\b\b\b\b\b\b\b\b\b\b\b\b\b\b\b\b\b\b\b\b\r2/2 [==============================] - 12s 3s/step - loss: 1.1719 - accuracy: 0.3594 - val_loss: 1.0596 - val_accuracy: 0.4000\n",
            "Epoch 6/6\n",
            "2/2 [==============================] - ETA: 0s - loss: 1.1591 - accuracy: 0.3594"
          ]
        },
        {
          "output_type": "stream",
          "name": "stderr",
          "text": [
            "\u001b[34m\u001b[1mwandb\u001b[0m: Adding directory to artifact (./my_model_06)... Done. 0.0s\n"
          ]
        },
        {
          "output_type": "stream",
          "name": "stdout",
          "text": [
            "\b\b\b\b\b\b\b\b\b\b\b\b\b\b\b\b\b\b\b\b\b\b\b\b\b\b\b\b\b\b\b\b\b\b\b\b\b\b\b\b\b\b\b\b\b\b\b\b\b\b\b\b\b\b\b\b\b\b\b\b\b\b\b\b\b\b\b\b\b\b\b\b\b\b\b\b\b\b\b\b\r2/2 [==============================] - 12s 4s/step - loss: 1.1591 - accuracy: 0.3594 - val_loss: 1.0573 - val_accuracy: 0.4000\n"
          ]
        },
        {
          "output_type": "display_data",
          "data": {
            "text/plain": [
              "<IPython.core.display.HTML object>"
            ],
            "text/html": [
              "Waiting for W&B process to finish... <strong style=\"color:green\">(success).</strong>"
            ]
          },
          "metadata": {}
        },
        {
          "output_type": "display_data",
          "data": {
            "text/plain": [
              "<IPython.core.display.HTML object>"
            ],
            "text/html": [
              "<style>\n",
              "    table.wandb td:nth-child(1) { padding: 0 10px; text-align: left ; width: auto;} td:nth-child(2) {text-align: left ; width: 100%}\n",
              "    .wandb-row { display: flex; flex-direction: row; flex-wrap: wrap; justify-content: flex-start; width: 100% }\n",
              "    .wandb-col { display: flex; flex-direction: column; flex-basis: 100%; flex: 1; padding: 10px; }\n",
              "    </style>\n",
              "<div class=\"wandb-row\"><div class=\"wandb-col\"><h3>Run history:</h3><br/><table class=\"wandb\"><tr><td>epoch/accuracy</td><td>▁█████</td></tr><tr><td>epoch/epoch</td><td>▁▂▄▅▇█</td></tr><tr><td>epoch/learning_rate</td><td>▁▁▁▁▁▁</td></tr><tr><td>epoch/loss</td><td>█▂▁▁▁▁</td></tr><tr><td>epoch/val_accuracy</td><td>▁▁▁▁▁▁</td></tr><tr><td>epoch/val_loss</td><td>█▄▂▁▁▁</td></tr></table><br/></div><div class=\"wandb-col\"><h3>Run summary:</h3><br/><table class=\"wandb\"><tr><td>epoch/accuracy</td><td>0.35938</td></tr><tr><td>epoch/epoch</td><td>5</td></tr><tr><td>epoch/learning_rate</td><td>0.01</td></tr><tr><td>epoch/loss</td><td>1.15909</td></tr><tr><td>epoch/val_accuracy</td><td>0.4</td></tr><tr><td>epoch/val_loss</td><td>1.0573</td></tr></table><br/></div></div>"
            ]
          },
          "metadata": {}
        },
        {
          "output_type": "display_data",
          "data": {
            "text/plain": [
              "<IPython.core.display.HTML object>"
            ],
            "text/html": [
              " View run <strong style=\"color:#cdcd00\">bright-dew-56</strong> at: <a href='https://wandb.ai/marcos-mnobrega/keras-intro/runs/t914jhqz' target=\"_blank\">https://wandb.ai/marcos-mnobrega/keras-intro/runs/t914jhqz</a><br/>Synced 5 W&B file(s), 0 media file(s), 30 artifact file(s) and 0 other file(s)"
            ]
          },
          "metadata": {}
        },
        {
          "output_type": "display_data",
          "data": {
            "text/plain": [
              "<IPython.core.display.HTML object>"
            ],
            "text/html": [
              "Find logs at: <code>./wandb/run-20231001_225814-t914jhqz/logs</code>"
            ]
          },
          "metadata": {}
        },
        {
          "output_type": "display_data",
          "data": {
            "text/plain": [
              "<IPython.core.display.HTML object>"
            ],
            "text/html": [
              "Tracking run with wandb version 0.15.11"
            ]
          },
          "metadata": {}
        },
        {
          "output_type": "display_data",
          "data": {
            "text/plain": [
              "<IPython.core.display.HTML object>"
            ],
            "text/html": [
              "Run data is saved locally in <code>/content/wandb/run-20231001_225946-q9mrbwnm</code>"
            ]
          },
          "metadata": {}
        },
        {
          "output_type": "display_data",
          "data": {
            "text/plain": [
              "<IPython.core.display.HTML object>"
            ],
            "text/html": [
              "Syncing run <strong><a href='https://wandb.ai/marcos-mnobrega/keras-intro/runs/q9mrbwnm' target=\"_blank\">cerulean-lion-57</a></strong> to <a href='https://wandb.ai/marcos-mnobrega/keras-intro' target=\"_blank\">Weights & Biases</a> (<a href='https://wandb.me/run' target=\"_blank\">docs</a>)<br/>"
            ]
          },
          "metadata": {}
        },
        {
          "output_type": "display_data",
          "data": {
            "text/plain": [
              "<IPython.core.display.HTML object>"
            ],
            "text/html": [
              " View project at <a href='https://wandb.ai/marcos-mnobrega/keras-intro' target=\"_blank\">https://wandb.ai/marcos-mnobrega/keras-intro</a>"
            ]
          },
          "metadata": {}
        },
        {
          "output_type": "display_data",
          "data": {
            "text/plain": [
              "<IPython.core.display.HTML object>"
            ],
            "text/html": [
              " View run at <a href='https://wandb.ai/marcos-mnobrega/keras-intro/runs/q9mrbwnm' target=\"_blank\">https://wandb.ai/marcos-mnobrega/keras-intro/runs/q9mrbwnm</a>"
            ]
          },
          "metadata": {}
        },
        {
          "output_type": "stream",
          "name": "stdout",
          "text": [
            "Epoch 1/6\n",
            "2/2 [==============================] - ETA: 0s - loss: 2.9005 - accuracy: 0.0594    "
          ]
        },
        {
          "output_type": "stream",
          "name": "stderr",
          "text": [
            "\u001b[34m\u001b[1mwandb\u001b[0m: Adding directory to artifact (./my_model_01)... Done. 0.0s\n"
          ]
        },
        {
          "output_type": "stream",
          "name": "stdout",
          "text": [
            "\b\b\b\b\b\b\b\b\b\b\b\b\b\b\b\b\b\b\b\b\b\b\b\b\b\b\b\b\b\b\b\b\b\b\b\b\b\b\b\b\b\b\b\b\b\b\b\b\b\b\b\b\b\b\b\b\b\b\b\b\b\b\b\b\b\b\b\b\b\b\b\b\b\b\b\b\b\b\b\b\r2/2 [==============================] - 11s 4s/step - loss: 2.9005 - accuracy: 0.0594 - val_loss: 1.1523 - val_accuracy: 0.4000\n",
            "Epoch 2/6\n",
            "2/2 [==============================] - ETA: 0s - loss: 1.3081 - accuracy: 0.3594"
          ]
        },
        {
          "output_type": "stream",
          "name": "stderr",
          "text": [
            "\u001b[34m\u001b[1mwandb\u001b[0m: Adding directory to artifact (./my_model_02)... Done. 0.0s\n"
          ]
        },
        {
          "output_type": "stream",
          "name": "stdout",
          "text": [
            "\b\b\b\b\b\b\b\b\b\b\b\b\b\b\b\b\b\b\b\b\b\b\b\b\b\b\b\b\b\b\b\b\b\b\b\b\b\b\b\b\b\b\b\b\b\b\b\b\b\b\b\b\b\b\b\b\b\b\b\b\b\b\b\b\b\b\b\b\b\b\b\b\b\b\b\b\b\b\b\b\r2/2 [==============================] - 11s 3s/step - loss: 1.3081 - accuracy: 0.3594 - val_loss: 1.0952 - val_accuracy: 0.4000\n",
            "Epoch 3/6\n",
            "2/2 [==============================] - ETA: 0s - loss: 1.2278 - accuracy: 0.3594"
          ]
        },
        {
          "output_type": "stream",
          "name": "stderr",
          "text": [
            "\u001b[34m\u001b[1mwandb\u001b[0m: Adding directory to artifact (./my_model_03)... Done. 0.0s\n"
          ]
        },
        {
          "output_type": "stream",
          "name": "stdout",
          "text": [
            "\b\b\b\b\b\b\b\b\b\b\b\b\b\b\b\b\b\b\b\b\b\b\b\b\b\b\b\b\b\b\b\b\b\b\b\b\b\b\b\b\b\b\b\b\b\b\b\b\b\b\b\b\b\b\b\b\b\b\b\b\b\b\b\b\b\b\b\b\b\b\b\b\b\b\b\b\b\b\b\b\r2/2 [==============================] - 12s 3s/step - loss: 1.2278 - accuracy: 0.3594 - val_loss: 1.0682 - val_accuracy: 0.4000\n",
            "Epoch 4/6\n",
            "2/2 [==============================] - ETA: 0s - loss: 1.1876 - accuracy: 0.3594"
          ]
        },
        {
          "output_type": "stream",
          "name": "stderr",
          "text": [
            "\u001b[34m\u001b[1mwandb\u001b[0m: Adding directory to artifact (./my_model_04)... Done. 0.0s\n"
          ]
        },
        {
          "output_type": "stream",
          "name": "stdout",
          "text": [
            "\b\b\b\b\b\b\b\b\b\b\b\b\b\b\b\b\b\b\b\b\b\b\b\b\b\b\b\b\b\b\b\b\b\b\b\b\b\b\b\b\b\b\b\b\b\b\b\b\b\b\b\b\b\b\b\b\b\b\b\b\b\b\b\b\b\b\b\b\b\b\b\b\b\b\b\b\b\b\b\b\r2/2 [==============================] - 12s 3s/step - loss: 1.1876 - accuracy: 0.3594 - val_loss: 1.0631 - val_accuracy: 0.4000\n",
            "Epoch 5/6\n",
            "2/2 [==============================] - ETA: 0s - loss: 1.1719 - accuracy: 0.3594"
          ]
        },
        {
          "output_type": "stream",
          "name": "stderr",
          "text": [
            "\u001b[34m\u001b[1mwandb\u001b[0m: Adding directory to artifact (./my_model_05)... Done. 0.0s\n"
          ]
        },
        {
          "output_type": "stream",
          "name": "stdout",
          "text": [
            "\b\b\b\b\b\b\b\b\b\b\b\b\b\b\b\b\b\b\b\b\b\b\b\b\b\b\b\b\b\b\b\b\b\b\b\b\b\b\b\b\b\b\b\b\b\b\b\b\b\b\b\b\b\b\b\b\b\b\b\b\b\b\b\b\b\b\b\b\b\b\b\b\b\b\b\b\b\b\b\b\r2/2 [==============================] - 12s 5s/step - loss: 1.1719 - accuracy: 0.3594 - val_loss: 1.0596 - val_accuracy: 0.4000\n",
            "Epoch 6/6\n",
            "2/2 [==============================] - ETA: 0s - loss: 1.1591 - accuracy: 0.3594"
          ]
        },
        {
          "output_type": "stream",
          "name": "stderr",
          "text": [
            "\u001b[34m\u001b[1mwandb\u001b[0m: Adding directory to artifact (./my_model_06)... Done. 0.0s\n"
          ]
        },
        {
          "output_type": "stream",
          "name": "stdout",
          "text": [
            "\b\b\b\b\b\b\b\b\b\b\b\b\b\b\b\b\b\b\b\b\b\b\b\b\b\b\b\b\b\b\b\b\b\b\b\b\b\b\b\b\b\b\b\b\b\b\b\b\b\b\b\b\b\b\b\b\b\b\b\b\b\b\b\b\b\b\b\b\b\b\b\b\b\b\b\b\b\b\b\b\r2/2 [==============================] - 10s 3s/step - loss: 1.1591 - accuracy: 0.3594 - val_loss: 1.0573 - val_accuracy: 0.4000\n"
          ]
        },
        {
          "output_type": "display_data",
          "data": {
            "text/plain": [
              "<IPython.core.display.HTML object>"
            ],
            "text/html": [
              "Waiting for W&B process to finish... <strong style=\"color:green\">(success).</strong>"
            ]
          },
          "metadata": {}
        },
        {
          "output_type": "display_data",
          "data": {
            "text/plain": [
              "<IPython.core.display.HTML object>"
            ],
            "text/html": [
              "<style>\n",
              "    table.wandb td:nth-child(1) { padding: 0 10px; text-align: left ; width: auto;} td:nth-child(2) {text-align: left ; width: 100%}\n",
              "    .wandb-row { display: flex; flex-direction: row; flex-wrap: wrap; justify-content: flex-start; width: 100% }\n",
              "    .wandb-col { display: flex; flex-direction: column; flex-basis: 100%; flex: 1; padding: 10px; }\n",
              "    </style>\n",
              "<div class=\"wandb-row\"><div class=\"wandb-col\"><h3>Run history:</h3><br/><table class=\"wandb\"><tr><td>epoch/accuracy</td><td>▁█████</td></tr><tr><td>epoch/epoch</td><td>▁▂▄▅▇█</td></tr><tr><td>epoch/learning_rate</td><td>▁▁▁▁▁▁</td></tr><tr><td>epoch/loss</td><td>█▂▁▁▁▁</td></tr><tr><td>epoch/val_accuracy</td><td>▁▁▁▁▁▁</td></tr><tr><td>epoch/val_loss</td><td>█▄▂▁▁▁</td></tr></table><br/></div><div class=\"wandb-col\"><h3>Run summary:</h3><br/><table class=\"wandb\"><tr><td>epoch/accuracy</td><td>0.35938</td></tr><tr><td>epoch/epoch</td><td>5</td></tr><tr><td>epoch/learning_rate</td><td>0.01</td></tr><tr><td>epoch/loss</td><td>1.15909</td></tr><tr><td>epoch/val_accuracy</td><td>0.4</td></tr><tr><td>epoch/val_loss</td><td>1.0573</td></tr></table><br/></div></div>"
            ]
          },
          "metadata": {}
        },
        {
          "output_type": "display_data",
          "data": {
            "text/plain": [
              "<IPython.core.display.HTML object>"
            ],
            "text/html": [
              " View run <strong style=\"color:#cdcd00\">cerulean-lion-57</strong> at: <a href='https://wandb.ai/marcos-mnobrega/keras-intro/runs/q9mrbwnm' target=\"_blank\">https://wandb.ai/marcos-mnobrega/keras-intro/runs/q9mrbwnm</a><br/>Synced 5 W&B file(s), 0 media file(s), 30 artifact file(s) and 0 other file(s)"
            ]
          },
          "metadata": {}
        },
        {
          "output_type": "display_data",
          "data": {
            "text/plain": [
              "<IPython.core.display.HTML object>"
            ],
            "text/html": [
              "Find logs at: <code>./wandb/run-20231001_225946-q9mrbwnm/logs</code>"
            ]
          },
          "metadata": {}
        },
        {
          "output_type": "display_data",
          "data": {
            "text/plain": [
              "<IPython.core.display.HTML object>"
            ],
            "text/html": [
              "Tracking run with wandb version 0.15.11"
            ]
          },
          "metadata": {}
        },
        {
          "output_type": "display_data",
          "data": {
            "text/plain": [
              "<IPython.core.display.HTML object>"
            ],
            "text/html": [
              "Run data is saved locally in <code>/content/wandb/run-20231001_230117-85n75jvd</code>"
            ]
          },
          "metadata": {}
        },
        {
          "output_type": "display_data",
          "data": {
            "text/plain": [
              "<IPython.core.display.HTML object>"
            ],
            "text/html": [
              "Syncing run <strong><a href='https://wandb.ai/marcos-mnobrega/keras-intro/runs/85n75jvd' target=\"_blank\">wobbly-leaf-58</a></strong> to <a href='https://wandb.ai/marcos-mnobrega/keras-intro' target=\"_blank\">Weights & Biases</a> (<a href='https://wandb.me/run' target=\"_blank\">docs</a>)<br/>"
            ]
          },
          "metadata": {}
        },
        {
          "output_type": "display_data",
          "data": {
            "text/plain": [
              "<IPython.core.display.HTML object>"
            ],
            "text/html": [
              " View project at <a href='https://wandb.ai/marcos-mnobrega/keras-intro' target=\"_blank\">https://wandb.ai/marcos-mnobrega/keras-intro</a>"
            ]
          },
          "metadata": {}
        },
        {
          "output_type": "display_data",
          "data": {
            "text/plain": [
              "<IPython.core.display.HTML object>"
            ],
            "text/html": [
              " View run at <a href='https://wandb.ai/marcos-mnobrega/keras-intro/runs/85n75jvd' target=\"_blank\">https://wandb.ai/marcos-mnobrega/keras-intro/runs/85n75jvd</a>"
            ]
          },
          "metadata": {}
        },
        {
          "output_type": "stream",
          "name": "stdout",
          "text": [
            "Epoch 1/6\n",
            "2/2 [==============================] - ETA: 0s - loss: 2.9005 - accuracy: 0.0594    "
          ]
        },
        {
          "output_type": "stream",
          "name": "stderr",
          "text": [
            "\u001b[34m\u001b[1mwandb\u001b[0m: Adding directory to artifact (./my_model_01)... Done. 0.0s\n"
          ]
        },
        {
          "output_type": "stream",
          "name": "stdout",
          "text": [
            "\b\b\b\b\b\b\b\b\b\b\b\b\b\b\b\b\b\b\b\b\b\b\b\b\b\b\b\b\b\b\b\b\b\b\b\b\b\b\b\b\b\b\b\b\b\b\b\b\b\b\b\b\b\b\b\b\b\b\b\b\b\b\b\b\b\b\b\b\b\b\b\b\b\b\b\b\b\b\b\b\r2/2 [==============================] - 13s 4s/step - loss: 2.9005 - accuracy: 0.0594 - val_loss: 1.1523 - val_accuracy: 0.4000\n",
            "Epoch 2/6\n",
            "2/2 [==============================] - ETA: 0s - loss: 1.3081 - accuracy: 0.3594"
          ]
        },
        {
          "output_type": "stream",
          "name": "stderr",
          "text": [
            "\u001b[34m\u001b[1mwandb\u001b[0m: Adding directory to artifact (./my_model_02)... Done. 0.0s\n"
          ]
        },
        {
          "output_type": "stream",
          "name": "stdout",
          "text": [
            "\b\b\b\b\b\b\b\b\b\b\b\b\b\b\b\b\b\b\b\b\b\b\b\b\b\b\b\b\b\b\b\b\b\b\b\b\b\b\b\b\b\b\b\b\b\b\b\b\b\b\b\b\b\b\b\b\b\b\b\b\b\b\b\b\b\b\b\b\b\b\b\b\b\b\b\b\b\b\b\b\r2/2 [==============================] - 12s 3s/step - loss: 1.3081 - accuracy: 0.3594 - val_loss: 1.0952 - val_accuracy: 0.4000\n",
            "Epoch 3/6\n",
            "2/2 [==============================] - ETA: 0s - loss: 1.2278 - accuracy: 0.3594"
          ]
        },
        {
          "output_type": "stream",
          "name": "stderr",
          "text": [
            "\u001b[34m\u001b[1mwandb\u001b[0m: Adding directory to artifact (./my_model_03)... Done. 0.0s\n"
          ]
        },
        {
          "output_type": "stream",
          "name": "stdout",
          "text": [
            "\b\b\b\b\b\b\b\b\b\b\b\b\b\b\b\b\b\b\b\b\b\b\b\b\b\b\b\b\b\b\b\b\b\b\b\b\b\b\b\b\b\b\b\b\b\b\b\b\b\b\b\b\b\b\b\b\b\b\b\b\b\b\b\b\b\b\b\b\b\b\b\b\b\b\b\b\b\b\b\b\r2/2 [==============================] - 11s 3s/step - loss: 1.2278 - accuracy: 0.3594 - val_loss: 1.0682 - val_accuracy: 0.4000\n",
            "Epoch 4/6\n",
            "2/2 [==============================] - ETA: 0s - loss: 1.1876 - accuracy: 0.3594"
          ]
        },
        {
          "output_type": "stream",
          "name": "stderr",
          "text": [
            "\u001b[34m\u001b[1mwandb\u001b[0m: Adding directory to artifact (./my_model_04)... Done. 0.0s\n"
          ]
        },
        {
          "output_type": "stream",
          "name": "stdout",
          "text": [
            "\b\b\b\b\b\b\b\b\b\b\b\b\b\b\b\b\b\b\b\b\b\b\b\b\b\b\b\b\b\b\b\b\b\b\b\b\b\b\b\b\b\b\b\b\b\b\b\b\b\b\b\b\b\b\b\b\b\b\b\b\b\b\b\b\b\b\b\b\b\b\b\b\b\b\b\b\b\b\b\b\r2/2 [==============================] - 11s 4s/step - loss: 1.1876 - accuracy: 0.3594 - val_loss: 1.0631 - val_accuracy: 0.4000\n",
            "Epoch 5/6\n",
            "2/2 [==============================] - ETA: 0s - loss: 1.1719 - accuracy: 0.3594"
          ]
        },
        {
          "output_type": "stream",
          "name": "stderr",
          "text": [
            "\u001b[34m\u001b[1mwandb\u001b[0m: Adding directory to artifact (./my_model_05)... Done. 0.0s\n"
          ]
        },
        {
          "output_type": "stream",
          "name": "stdout",
          "text": [
            "\b\b\b\b\b\b\b\b\b\b\b\b\b\b\b\b\b\b\b\b\b\b\b\b\b\b\b\b\b\b\b\b\b\b\b\b\b\b\b\b\b\b\b\b\b\b\b\b\b\b\b\b\b\b\b\b\b\b\b\b\b\b\b\b\b\b\b\b\b\b\b\b\b\b\b\b\b\b\b\b\r2/2 [==============================] - 10s 3s/step - loss: 1.1719 - accuracy: 0.3594 - val_loss: 1.0596 - val_accuracy: 0.4000\n",
            "Epoch 6/6\n",
            "2/2 [==============================] - ETA: 0s - loss: 1.1591 - accuracy: 0.3594"
          ]
        },
        {
          "output_type": "stream",
          "name": "stderr",
          "text": [
            "\u001b[34m\u001b[1mwandb\u001b[0m: Adding directory to artifact (./my_model_06)... Done. 0.0s\n"
          ]
        },
        {
          "output_type": "stream",
          "name": "stdout",
          "text": [
            "\b\b\b\b\b\b\b\b\b\b\b\b\b\b\b\b\b\b\b\b\b\b\b\b\b\b\b\b\b\b\b\b\b\b\b\b\b\b\b\b\b\b\b\b\b\b\b\b\b\b\b\b\b\b\b\b\b\b\b\b\b\b\b\b\b\b\b\b\b\b\b\b\b\b\b\b\b\b\b\b\r2/2 [==============================] - 12s 3s/step - loss: 1.1591 - accuracy: 0.3594 - val_loss: 1.0573 - val_accuracy: 0.4000\n"
          ]
        },
        {
          "output_type": "display_data",
          "data": {
            "text/plain": [
              "<IPython.core.display.HTML object>"
            ],
            "text/html": [
              "Waiting for W&B process to finish... <strong style=\"color:green\">(success).</strong>"
            ]
          },
          "metadata": {}
        },
        {
          "output_type": "display_data",
          "data": {
            "text/plain": [
              "<IPython.core.display.HTML object>"
            ],
            "text/html": [
              "<style>\n",
              "    table.wandb td:nth-child(1) { padding: 0 10px; text-align: left ; width: auto;} td:nth-child(2) {text-align: left ; width: 100%}\n",
              "    .wandb-row { display: flex; flex-direction: row; flex-wrap: wrap; justify-content: flex-start; width: 100% }\n",
              "    .wandb-col { display: flex; flex-direction: column; flex-basis: 100%; flex: 1; padding: 10px; }\n",
              "    </style>\n",
              "<div class=\"wandb-row\"><div class=\"wandb-col\"><h3>Run history:</h3><br/><table class=\"wandb\"><tr><td>epoch/accuracy</td><td>▁█████</td></tr><tr><td>epoch/epoch</td><td>▁▂▄▅▇█</td></tr><tr><td>epoch/learning_rate</td><td>▁▁▁▁▁▁</td></tr><tr><td>epoch/loss</td><td>█▂▁▁▁▁</td></tr><tr><td>epoch/val_accuracy</td><td>▁▁▁▁▁▁</td></tr><tr><td>epoch/val_loss</td><td>█▄▂▁▁▁</td></tr></table><br/></div><div class=\"wandb-col\"><h3>Run summary:</h3><br/><table class=\"wandb\"><tr><td>epoch/accuracy</td><td>0.35938</td></tr><tr><td>epoch/epoch</td><td>5</td></tr><tr><td>epoch/learning_rate</td><td>0.01</td></tr><tr><td>epoch/loss</td><td>1.15909</td></tr><tr><td>epoch/val_accuracy</td><td>0.4</td></tr><tr><td>epoch/val_loss</td><td>1.0573</td></tr></table><br/></div></div>"
            ]
          },
          "metadata": {}
        },
        {
          "output_type": "display_data",
          "data": {
            "text/plain": [
              "<IPython.core.display.HTML object>"
            ],
            "text/html": [
              " View run <strong style=\"color:#cdcd00\">wobbly-leaf-58</strong> at: <a href='https://wandb.ai/marcos-mnobrega/keras-intro/runs/85n75jvd' target=\"_blank\">https://wandb.ai/marcos-mnobrega/keras-intro/runs/85n75jvd</a><br/>Synced 5 W&B file(s), 0 media file(s), 30 artifact file(s) and 0 other file(s)"
            ]
          },
          "metadata": {}
        },
        {
          "output_type": "display_data",
          "data": {
            "text/plain": [
              "<IPython.core.display.HTML object>"
            ],
            "text/html": [
              "Find logs at: <code>./wandb/run-20231001_230117-85n75jvd/logs</code>"
            ]
          },
          "metadata": {}
        },
        {
          "output_type": "display_data",
          "data": {
            "text/plain": [
              "<IPython.core.display.HTML object>"
            ],
            "text/html": [
              "Tracking run with wandb version 0.15.11"
            ]
          },
          "metadata": {}
        },
        {
          "output_type": "display_data",
          "data": {
            "text/plain": [
              "<IPython.core.display.HTML object>"
            ],
            "text/html": [
              "Run data is saved locally in <code>/content/wandb/run-20231001_230248-7w61uorq</code>"
            ]
          },
          "metadata": {}
        },
        {
          "output_type": "display_data",
          "data": {
            "text/plain": [
              "<IPython.core.display.HTML object>"
            ],
            "text/html": [
              "Syncing run <strong><a href='https://wandb.ai/marcos-mnobrega/keras-intro/runs/7w61uorq' target=\"_blank\">polished-shape-59</a></strong> to <a href='https://wandb.ai/marcos-mnobrega/keras-intro' target=\"_blank\">Weights & Biases</a> (<a href='https://wandb.me/run' target=\"_blank\">docs</a>)<br/>"
            ]
          },
          "metadata": {}
        },
        {
          "output_type": "display_data",
          "data": {
            "text/plain": [
              "<IPython.core.display.HTML object>"
            ],
            "text/html": [
              " View project at <a href='https://wandb.ai/marcos-mnobrega/keras-intro' target=\"_blank\">https://wandb.ai/marcos-mnobrega/keras-intro</a>"
            ]
          },
          "metadata": {}
        },
        {
          "output_type": "display_data",
          "data": {
            "text/plain": [
              "<IPython.core.display.HTML object>"
            ],
            "text/html": [
              " View run at <a href='https://wandb.ai/marcos-mnobrega/keras-intro/runs/7w61uorq' target=\"_blank\">https://wandb.ai/marcos-mnobrega/keras-intro/runs/7w61uorq</a>"
            ]
          },
          "metadata": {}
        },
        {
          "output_type": "stream",
          "name": "stdout",
          "text": [
            "Epoch 1/6\n",
            "2/2 [==============================] - ETA: 0s - loss: 2.9005 - accuracy: 0.0594    "
          ]
        },
        {
          "output_type": "stream",
          "name": "stderr",
          "text": [
            "\u001b[34m\u001b[1mwandb\u001b[0m: Adding directory to artifact (./my_model_01)... Done. 0.0s\n"
          ]
        },
        {
          "output_type": "stream",
          "name": "stdout",
          "text": [
            "\b\b\b\b\b\b\b\b\b\b\b\b\b\b\b\b\b\b\b\b\b\b\b\b\b\b\b\b\b\b\b\b\b\b\b\b\b\b\b\b\b\b\b\b\b\b\b\b\b\b\b\b\b\b\b\b\b\b\b\b\b\b\b\b\b\b\b\b\b\b\b\b\b\b\b\b\b\b\b\b\r2/2 [==============================] - 12s 4s/step - loss: 2.9005 - accuracy: 0.0594 - val_loss: 1.1523 - val_accuracy: 0.4000\n",
            "Epoch 2/6\n",
            "2/2 [==============================] - ETA: 0s - loss: 1.3081 - accuracy: 0.3594"
          ]
        },
        {
          "output_type": "stream",
          "name": "stderr",
          "text": [
            "\u001b[34m\u001b[1mwandb\u001b[0m: Adding directory to artifact (./my_model_02)... Done. 0.0s\n"
          ]
        },
        {
          "output_type": "stream",
          "name": "stdout",
          "text": [
            "\b\b\b\b\b\b\b\b\b\b\b\b\b\b\b\b\b\b\b\b\b\b\b\b\b\b\b\b\b\b\b\b\b\b\b\b\b\b\b\b\b\b\b\b\b\b\b\b\b\b\b\b\b\b\b\b\b\b\b\b\b\b\b\b\b\b\b\b\b\b\b\b\b\b\b\b\b\b\b\b\r2/2 [==============================] - 10s 3s/step - loss: 1.3081 - accuracy: 0.3594 - val_loss: 1.0952 - val_accuracy: 0.4000\n",
            "Epoch 3/6\n",
            "2/2 [==============================] - ETA: 0s - loss: 1.2278 - accuracy: 0.3594"
          ]
        },
        {
          "output_type": "stream",
          "name": "stderr",
          "text": [
            "\u001b[34m\u001b[1mwandb\u001b[0m: Adding directory to artifact (./my_model_03)... Done. 0.0s\n"
          ]
        },
        {
          "output_type": "stream",
          "name": "stdout",
          "text": [
            "\b\b\b\b\b\b\b\b\b\b\b\b\b\b\b\b\b\b\b\b\b\b\b\b\b\b\b\b\b\b\b\b\b\b\b\b\b\b\b\b\b\b\b\b\b\b\b\b\b\b\b\b\b\b\b\b\b\b\b\b\b\b\b\b\b\b\b\b\b\b\b\b\b\b\b\b\b\b\b\b\r2/2 [==============================] - 11s 3s/step - loss: 1.2278 - accuracy: 0.3594 - val_loss: 1.0682 - val_accuracy: 0.4000\n",
            "Epoch 4/6\n",
            "2/2 [==============================] - ETA: 0s - loss: 1.1876 - accuracy: 0.3594"
          ]
        },
        {
          "output_type": "stream",
          "name": "stderr",
          "text": [
            "\u001b[34m\u001b[1mwandb\u001b[0m: Adding directory to artifact (./my_model_04)... Done. 0.0s\n"
          ]
        },
        {
          "output_type": "stream",
          "name": "stdout",
          "text": [
            "\b\b\b\b\b\b\b\b\b\b\b\b\b\b\b\b\b\b\b\b\b\b\b\b\b\b\b\b\b\b\b\b\b\b\b\b\b\b\b\b\b\b\b\b\b\b\b\b\b\b\b\b\b\b\b\b\b\b\b\b\b\b\b\b\b\b\b\b\b\b\b\b\b\b\b\b\b\b\b\b\r2/2 [==============================] - 12s 3s/step - loss: 1.1876 - accuracy: 0.3594 - val_loss: 1.0631 - val_accuracy: 0.4000\n",
            "Epoch 5/6\n",
            "2/2 [==============================] - ETA: 0s - loss: 1.1719 - accuracy: 0.3594"
          ]
        },
        {
          "output_type": "stream",
          "name": "stderr",
          "text": [
            "\u001b[34m\u001b[1mwandb\u001b[0m: Adding directory to artifact (./my_model_05)... Done. 0.0s\n"
          ]
        },
        {
          "output_type": "stream",
          "name": "stdout",
          "text": [
            "\b\b\b\b\b\b\b\b\b\b\b\b\b\b\b\b\b\b\b\b\b\b\b\b\b\b\b\b\b\b\b\b\b\b\b\b\b\b\b\b\b\b\b\b\b\b\b\b\b\b\b\b\b\b\b\b\b\b\b\b\b\b\b\b\b\b\b\b\b\b\b\b\b\b\b\b\b\b\b\b\r2/2 [==============================] - 12s 3s/step - loss: 1.1719 - accuracy: 0.3594 - val_loss: 1.0596 - val_accuracy: 0.4000\n",
            "Epoch 6/6\n",
            "2/2 [==============================] - ETA: 0s - loss: 1.1591 - accuracy: 0.3594"
          ]
        },
        {
          "output_type": "stream",
          "name": "stderr",
          "text": [
            "\u001b[34m\u001b[1mwandb\u001b[0m: Adding directory to artifact (./my_model_06)... Done. 0.0s\n"
          ]
        },
        {
          "output_type": "stream",
          "name": "stdout",
          "text": [
            "\b\b\b\b\b\b\b\b\b\b\b\b\b\b\b\b\b\b\b\b\b\b\b\b\b\b\b\b\b\b\b\b\b\b\b\b\b\b\b\b\b\b\b\b\b\b\b\b\b\b\b\b\b\b\b\b\b\b\b\b\b\b\b\b\b\b\b\b\b\b\b\b\b\b\b\b\b\b\b\b\r2/2 [==============================] - 12s 4s/step - loss: 1.1591 - accuracy: 0.3594 - val_loss: 1.0573 - val_accuracy: 0.4000\n"
          ]
        },
        {
          "output_type": "display_data",
          "data": {
            "text/plain": [
              "<IPython.core.display.HTML object>"
            ],
            "text/html": [
              "Waiting for W&B process to finish... <strong style=\"color:green\">(success).</strong>"
            ]
          },
          "metadata": {}
        },
        {
          "output_type": "display_data",
          "data": {
            "text/plain": [
              "<IPython.core.display.HTML object>"
            ],
            "text/html": [
              "<style>\n",
              "    table.wandb td:nth-child(1) { padding: 0 10px; text-align: left ; width: auto;} td:nth-child(2) {text-align: left ; width: 100%}\n",
              "    .wandb-row { display: flex; flex-direction: row; flex-wrap: wrap; justify-content: flex-start; width: 100% }\n",
              "    .wandb-col { display: flex; flex-direction: column; flex-basis: 100%; flex: 1; padding: 10px; }\n",
              "    </style>\n",
              "<div class=\"wandb-row\"><div class=\"wandb-col\"><h3>Run history:</h3><br/><table class=\"wandb\"><tr><td>epoch/accuracy</td><td>▁█████</td></tr><tr><td>epoch/epoch</td><td>▁▂▄▅▇█</td></tr><tr><td>epoch/learning_rate</td><td>▁▁▁▁▁▁</td></tr><tr><td>epoch/loss</td><td>█▂▁▁▁▁</td></tr><tr><td>epoch/val_accuracy</td><td>▁▁▁▁▁▁</td></tr><tr><td>epoch/val_loss</td><td>█▄▂▁▁▁</td></tr></table><br/></div><div class=\"wandb-col\"><h3>Run summary:</h3><br/><table class=\"wandb\"><tr><td>epoch/accuracy</td><td>0.35938</td></tr><tr><td>epoch/epoch</td><td>5</td></tr><tr><td>epoch/learning_rate</td><td>0.01</td></tr><tr><td>epoch/loss</td><td>1.15909</td></tr><tr><td>epoch/val_accuracy</td><td>0.4</td></tr><tr><td>epoch/val_loss</td><td>1.0573</td></tr></table><br/></div></div>"
            ]
          },
          "metadata": {}
        },
        {
          "output_type": "display_data",
          "data": {
            "text/plain": [
              "<IPython.core.display.HTML object>"
            ],
            "text/html": [
              " View run <strong style=\"color:#cdcd00\">polished-shape-59</strong> at: <a href='https://wandb.ai/marcos-mnobrega/keras-intro/runs/7w61uorq' target=\"_blank\">https://wandb.ai/marcos-mnobrega/keras-intro/runs/7w61uorq</a><br/>Synced 5 W&B file(s), 0 media file(s), 30 artifact file(s) and 0 other file(s)"
            ]
          },
          "metadata": {}
        },
        {
          "output_type": "display_data",
          "data": {
            "text/plain": [
              "<IPython.core.display.HTML object>"
            ],
            "text/html": [
              "Find logs at: <code>./wandb/run-20231001_230248-7w61uorq/logs</code>"
            ]
          },
          "metadata": {}
        }
      ]
    },
    {
      "cell_type": "markdown",
      "source": [
        "# Treino normal"
      ],
      "metadata": {
        "id": "UwwI4C8x3cqe"
      }
    },
    {
      "cell_type": "code",
      "source": [
        "from keras.utils import np_utils\n",
        "\n",
        "# One-hot encode the training labels\n",
        "y_train_OH = np_utils.to_categorical(y_train)\n",
        "\n",
        "# One-hot encode the test labels\n",
        "y_test_OH = np_utils.to_categorical(y_test)"
      ],
      "metadata": {
        "id": "Byp0xmjqlVxv"
      },
      "execution_count": null,
      "outputs": []
    },
    {
      "cell_type": "code",
      "source": [
        "from keras.layers import Conv2D, MaxPooling2D\n",
        "from keras.layers import Flatten, Dense\n",
        "from keras.models import Sequential\n",
        "\n",
        "model = Sequential()\n",
        "# First convolutional layer accepts image input\n",
        "model.add(Conv2D(filters=5, kernel_size=5, padding='same', activation='relu',\n",
        "                        input_shape=(50, 50, 3)))\n",
        "# Add a max pooling layer\n",
        "model.add(MaxPooling2D(pool_size=(4, 4)))\n",
        "# Add a convolutional layer\n",
        "model.add(Conv2D(filters=15, kernel_size=5, padding='same', activation='relu'))\n",
        "# Add another max pooling layer\n",
        "model.add(MaxPooling2D(pool_size=(4, 4)))\n",
        "# Flatten and feed to output layer\n",
        "model.add(Flatten())\n",
        "model.add(Dense(3, activation='softmax'))\n",
        "\n",
        "# Summarize the model\n",
        "model.summary()"
      ],
      "metadata": {
        "id": "CQH_83-alV0v"
      },
      "execution_count": null,
      "outputs": []
    },
    {
      "cell_type": "code",
      "source": [
        "# Compile the model\n",
        "model.compile(optimizer='rmsprop',\n",
        "              loss='categorical_crossentropy',\n",
        "              metrics=['accuracy'])"
      ],
      "metadata": {
        "id": "6XyGdMN_ldlo"
      },
      "execution_count": null,
      "outputs": []
    },
    {
      "cell_type": "code",
      "source": [
        "# Train the model\n",
        "hist = model.fit(x=x_train, y=y_train_OH, validation_split=0.20, epochs=2, batch_size=32)"
      ],
      "metadata": {
        "id": "DnaU3tfuldoh"
      },
      "execution_count": null,
      "outputs": []
    },
    {
      "cell_type": "code",
      "source": [
        "# Obtain accuracy on test set\n",
        "score = model.evaluate(x=x_test,\n",
        "                       y=y_test_OH,\n",
        "                       verbose=0)\n",
        "print('Test accuracy:', score[1])"
      ],
      "metadata": {
        "id": "UBuo-cacldtx"
      },
      "execution_count": null,
      "outputs": []
    },
    {
      "cell_type": "code",
      "source": [
        "# Get predicted probabilities for test dataset\n",
        "y_probs = model.predict(x_test)\n",
        "\n",
        "# Get predicted labels for test dataset\n",
        "y_preds = np.argmax(y_probs, axis=1)\n",
        "\n",
        "# Indices corresponding to test images which were mislabeled\n",
        "bad_test_idxs = np.where(y_preds!=y_test)[0]\n",
        "\n",
        "# Print mislabeled examples\n",
        "fig = plt.figure(figsize=(25,4))\n",
        "for i, idx in enumerate(bad_test_idxs):\n",
        "    ax = fig.add_subplot(2, np.ceil(len(bad_test_idxs)/2), i + 1, xticks=[], yticks=[])\n",
        "    ax.imshow(np.squeeze(x_test[idx]))\n",
        "    ax.set_title(\"{} (pred: {})\".format(labels[y_test[idx]], labels[y_preds[idx]]))"
      ],
      "metadata": {
        "id": "oSXsWEmmldww"
      },
      "execution_count": null,
      "outputs": []
    }
  ]
}